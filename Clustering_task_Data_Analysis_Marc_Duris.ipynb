{
  "nbformat": 4,
  "nbformat_minor": 0,
  "metadata": {
    "colab": {
      "name": "Clustering task Data Analysis Marc Duris",
      "provenance": [],
      "authorship_tag": "ABX9TyP8c03RQNXVCCfLpigWxRhS",
      "include_colab_link": true
    },
    "kernelspec": {
      "name": "python3",
      "display_name": "Python 3"
    }
  },
  "cells": [
    {
      "cell_type": "markdown",
      "metadata": {
        "id": "view-in-github",
        "colab_type": "text"
      },
      "source": [
        "<a href=\"https://colab.research.google.com/github/Kemar73/Data-analysis-task/blob/master/Clustering_task_Data_Analysis_Marc_Duris.ipynb\" target=\"_parent\"><img src=\"https://colab.research.google.com/assets/colab-badge.svg\" alt=\"Open In Colab\"/></a>"
      ]
    },
    {
      "cell_type": "markdown",
      "metadata": {
        "id": "YYrPm4JWxAho",
        "colab_type": "text"
      },
      "source": [
        "# Preparation"
      ]
    },
    {
      "cell_type": "markdown",
      "metadata": {
        "id": "kq8VRekpxExr",
        "colab_type": "text"
      },
      "source": [
        "Kaggle : https://www.kaggle.com/jeanmidev/crossfit-games#2019_games_athletes.csv"
      ]
    },
    {
      "cell_type": "code",
      "metadata": {
        "id": "IZU_50r2w9ur",
        "colab_type": "code",
        "colab": {
          "base_uri": "https://localhost:8080/",
          "height": 51
        },
        "outputId": "eeee733b-4fe7-4cf0-fba4-2ecf39bdf5d6"
      },
      "source": [
        "import pandas as pd\n",
        "import seaborn as sns\n",
        "import matplotlib.pyplot as plt\n",
        "import numpy as np"
      ],
      "execution_count": 1,
      "outputs": [
        {
          "output_type": "stream",
          "text": [
            "/usr/local/lib/python3.6/dist-packages/statsmodels/tools/_testing.py:19: FutureWarning: pandas.util.testing is deprecated. Use the functions in the public API at pandas.testing instead.\n",
            "  import pandas.util.testing as tm\n"
          ],
          "name": "stderr"
        }
      ]
    },
    {
      "cell_type": "code",
      "metadata": {
        "id": "KU36m449xJ9f",
        "colab_type": "code",
        "colab": {}
      },
      "source": [
        "from sklearn.decomposition import PCA\n",
        "from sklearn.preprocessing import StandardScaler"
      ],
      "execution_count": 0,
      "outputs": []
    },
    {
      "cell_type": "code",
      "metadata": {
        "id": "mZNMJmUgxNnh",
        "colab_type": "code",
        "outputId": "70a529f1-bbee-4d71-b83d-807827799b81",
        "colab": {
          "base_uri": "https://localhost:8080/",
          "height": 122
        }
      },
      "source": [
        "from google.colab import drive\n",
        "drive.mount('/content/drive')"
      ],
      "execution_count": 3,
      "outputs": [
        {
          "output_type": "stream",
          "text": [
            "Go to this URL in a browser: https://accounts.google.com/o/oauth2/auth?client_id=947318989803-6bn6qk8qdgf4n4g3pfee6491hc0brc4i.apps.googleusercontent.com&redirect_uri=urn%3aietf%3awg%3aoauth%3a2.0%3aoob&response_type=code&scope=email%20https%3a%2f%2fwww.googleapis.com%2fauth%2fdocs.test%20https%3a%2f%2fwww.googleapis.com%2fauth%2fdrive%20https%3a%2f%2fwww.googleapis.com%2fauth%2fdrive.photos.readonly%20https%3a%2f%2fwww.googleapis.com%2fauth%2fpeopleapi.readonly\n",
            "\n",
            "Enter your authorization code:\n",
            "··········\n",
            "Mounted at /content/drive\n"
          ],
          "name": "stdout"
        }
      ]
    },
    {
      "cell_type": "code",
      "metadata": {
        "id": "GHbEU7fUxX4K",
        "colab_type": "code",
        "colab": {}
      },
      "source": [
        "df=pd.read_csv('/content/drive/My Drive/2019_games_athletes.csv')"
      ],
      "execution_count": 0,
      "outputs": []
    },
    {
      "cell_type": "code",
      "metadata": {
        "id": "IdzA6U37xeNJ",
        "colab_type": "code",
        "outputId": "78a6c204-3031-4a10-93c0-f13e5cf80da6",
        "colab": {
          "base_uri": "https://localhost:8080/",
          "height": 326
        }
      },
      "source": [
        "df.head()"
      ],
      "execution_count": 5,
      "outputs": [
        {
          "output_type": "execute_result",
          "data": {
            "text/html": [
              "<div>\n",
              "<style scoped>\n",
              "    .dataframe tbody tr th:only-of-type {\n",
              "        vertical-align: middle;\n",
              "    }\n",
              "\n",
              "    .dataframe tbody tr th {\n",
              "        vertical-align: top;\n",
              "    }\n",
              "\n",
              "    .dataframe thead th {\n",
              "        text-align: right;\n",
              "    }\n",
              "</style>\n",
              "<table border=\"1\" class=\"dataframe\">\n",
              "  <thead>\n",
              "    <tr style=\"text-align: right;\">\n",
              "      <th></th>\n",
              "      <th>height</th>\n",
              "      <th>affiliateid</th>\n",
              "      <th>countryoforiginname</th>\n",
              "      <th>weight</th>\n",
              "      <th>affiliatename</th>\n",
              "      <th>status</th>\n",
              "      <th>bibid</th>\n",
              "      <th>profilepics3key</th>\n",
              "      <th>competitorid</th>\n",
              "      <th>firstname</th>\n",
              "      <th>gender</th>\n",
              "      <th>age</th>\n",
              "      <th>lastname</th>\n",
              "      <th>countryoforigincode</th>\n",
              "      <th>competitorname</th>\n",
              "      <th>overallrank</th>\n",
              "      <th>overallscore</th>\n",
              "      <th>division</th>\n",
              "    </tr>\n",
              "  </thead>\n",
              "  <tbody>\n",
              "    <tr>\n",
              "      <th>0</th>\n",
              "      <td>1.74</td>\n",
              "      <td>44632.0</td>\n",
              "      <td>United States</td>\n",
              "      <td>88.5</td>\n",
              "      <td>CrossFit Mayhem</td>\n",
              "      <td>ACT</td>\n",
              "      <td>016</td>\n",
              "      <td>9e218-P153604_4-184.jpg</td>\n",
              "      <td>153604</td>\n",
              "      <td>Mathew</td>\n",
              "      <td>M</td>\n",
              "      <td>29</td>\n",
              "      <td>Fraser</td>\n",
              "      <td>US</td>\n",
              "      <td>Mathew Fraser</td>\n",
              "      <td>1</td>\n",
              "      <td>984.0</td>\n",
              "      <td>Men</td>\n",
              "    </tr>\n",
              "    <tr>\n",
              "      <th>1</th>\n",
              "      <td>1.74</td>\n",
              "      <td>44800.0</td>\n",
              "      <td>United States</td>\n",
              "      <td>86.2</td>\n",
              "      <td>Peak 360 CrossFit</td>\n",
              "      <td>ACT</td>\n",
              "      <td>302</td>\n",
              "      <td>0a0bc-P2725_5-184.jpg</td>\n",
              "      <td>2725</td>\n",
              "      <td>Noah</td>\n",
              "      <td>M</td>\n",
              "      <td>28</td>\n",
              "      <td>Ohlsen</td>\n",
              "      <td>US</td>\n",
              "      <td>Noah Ohlsen</td>\n",
              "      <td>2</td>\n",
              "      <td>949.0</td>\n",
              "      <td>Men</td>\n",
              "    </tr>\n",
              "    <tr>\n",
              "      <th>2</th>\n",
              "      <td>1.55</td>\n",
              "      <td>44753.0</td>\n",
              "      <td>Iceland</td>\n",
              "      <td>83.9</td>\n",
              "      <td>CrossFit Hengill</td>\n",
              "      <td>ACT</td>\n",
              "      <td>122</td>\n",
              "      <td>4c5dc-P81616_4-184.jpg</td>\n",
              "      <td>81616</td>\n",
              "      <td>Björgvin Karl</td>\n",
              "      <td>M</td>\n",
              "      <td>26</td>\n",
              "      <td>Guðmundsson</td>\n",
              "      <td>IS</td>\n",
              "      <td>Björgvin Karl Guðmundsson</td>\n",
              "      <td>3</td>\n",
              "      <td>888.0</td>\n",
              "      <td>Men</td>\n",
              "    </tr>\n",
              "    <tr>\n",
              "      <th>3</th>\n",
              "      <td>1.80</td>\n",
              "      <td>44597.0</td>\n",
              "      <td>United States</td>\n",
              "      <td>84.8</td>\n",
              "      <td>CrossFit Mentality</td>\n",
              "      <td>ACT</td>\n",
              "      <td>105</td>\n",
              "      <td>e23e0-P34796_8-184.jpg</td>\n",
              "      <td>34796</td>\n",
              "      <td>Scott</td>\n",
              "      <td>M</td>\n",
              "      <td>31</td>\n",
              "      <td>Panchik</td>\n",
              "      <td>US</td>\n",
              "      <td>Scott Panchik</td>\n",
              "      <td>4</td>\n",
              "      <td>795.0</td>\n",
              "      <td>Men</td>\n",
              "    </tr>\n",
              "    <tr>\n",
              "      <th>4</th>\n",
              "      <td>1.55</td>\n",
              "      <td>44792.0</td>\n",
              "      <td>Australia</td>\n",
              "      <td>87.1</td>\n",
              "      <td>CrossFit Mode</td>\n",
              "      <td>ACT</td>\n",
              "      <td>303</td>\n",
              "      <td>b7c6d-P16080_7-184.jpg</td>\n",
              "      <td>16080</td>\n",
              "      <td>James</td>\n",
              "      <td>M</td>\n",
              "      <td>28</td>\n",
              "      <td>Newbury</td>\n",
              "      <td>AU</td>\n",
              "      <td>James Newbury</td>\n",
              "      <td>5</td>\n",
              "      <td>728.0</td>\n",
              "      <td>Men</td>\n",
              "    </tr>\n",
              "  </tbody>\n",
              "</table>\n",
              "</div>"
            ],
            "text/plain": [
              "   height  affiliateid countryoforiginname  ...  overallrank overallscore division\n",
              "0    1.74      44632.0       United States  ...            1        984.0      Men\n",
              "1    1.74      44800.0       United States  ...            2        949.0      Men\n",
              "2    1.55      44753.0             Iceland  ...            3        888.0      Men\n",
              "3    1.80      44597.0       United States  ...            4        795.0      Men\n",
              "4    1.55      44792.0           Australia  ...            5        728.0      Men\n",
              "\n",
              "[5 rows x 18 columns]"
            ]
          },
          "metadata": {
            "tags": []
          },
          "execution_count": 5
        }
      ]
    },
    {
      "cell_type": "markdown",
      "metadata": {
        "id": "4huNQvXDj8xb",
        "colab_type": "text"
      },
      "source": [
        "We only keep columns that we could need"
      ]
    },
    {
      "cell_type": "code",
      "metadata": {
        "id": "xzhBv9QJ_v2b",
        "colab_type": "code",
        "colab": {}
      },
      "source": [
        "# Remove some columns\n",
        "cols=['height','countryoforiginname','weight','affiliatename','gender','age','countryoforigincode','overallrank','overallscore','division']\n",
        "df.drop(df.columns.difference(cols), axis=1, inplace=True)"
      ],
      "execution_count": 0,
      "outputs": []
    },
    {
      "cell_type": "code",
      "metadata": {
        "id": "5cT1-YG0ATq0",
        "colab_type": "code",
        "outputId": "3b487e6c-fcbc-4aa6-f34a-fadc05f11ca6",
        "colab": {
          "base_uri": "https://localhost:8080/",
          "height": 204
        }
      },
      "source": [
        "df.head()"
      ],
      "execution_count": 7,
      "outputs": [
        {
          "output_type": "execute_result",
          "data": {
            "text/html": [
              "<div>\n",
              "<style scoped>\n",
              "    .dataframe tbody tr th:only-of-type {\n",
              "        vertical-align: middle;\n",
              "    }\n",
              "\n",
              "    .dataframe tbody tr th {\n",
              "        vertical-align: top;\n",
              "    }\n",
              "\n",
              "    .dataframe thead th {\n",
              "        text-align: right;\n",
              "    }\n",
              "</style>\n",
              "<table border=\"1\" class=\"dataframe\">\n",
              "  <thead>\n",
              "    <tr style=\"text-align: right;\">\n",
              "      <th></th>\n",
              "      <th>height</th>\n",
              "      <th>countryoforiginname</th>\n",
              "      <th>weight</th>\n",
              "      <th>affiliatename</th>\n",
              "      <th>gender</th>\n",
              "      <th>age</th>\n",
              "      <th>countryoforigincode</th>\n",
              "      <th>overallrank</th>\n",
              "      <th>overallscore</th>\n",
              "      <th>division</th>\n",
              "    </tr>\n",
              "  </thead>\n",
              "  <tbody>\n",
              "    <tr>\n",
              "      <th>0</th>\n",
              "      <td>1.74</td>\n",
              "      <td>United States</td>\n",
              "      <td>88.5</td>\n",
              "      <td>CrossFit Mayhem</td>\n",
              "      <td>M</td>\n",
              "      <td>29</td>\n",
              "      <td>US</td>\n",
              "      <td>1</td>\n",
              "      <td>984.0</td>\n",
              "      <td>Men</td>\n",
              "    </tr>\n",
              "    <tr>\n",
              "      <th>1</th>\n",
              "      <td>1.74</td>\n",
              "      <td>United States</td>\n",
              "      <td>86.2</td>\n",
              "      <td>Peak 360 CrossFit</td>\n",
              "      <td>M</td>\n",
              "      <td>28</td>\n",
              "      <td>US</td>\n",
              "      <td>2</td>\n",
              "      <td>949.0</td>\n",
              "      <td>Men</td>\n",
              "    </tr>\n",
              "    <tr>\n",
              "      <th>2</th>\n",
              "      <td>1.55</td>\n",
              "      <td>Iceland</td>\n",
              "      <td>83.9</td>\n",
              "      <td>CrossFit Hengill</td>\n",
              "      <td>M</td>\n",
              "      <td>26</td>\n",
              "      <td>IS</td>\n",
              "      <td>3</td>\n",
              "      <td>888.0</td>\n",
              "      <td>Men</td>\n",
              "    </tr>\n",
              "    <tr>\n",
              "      <th>3</th>\n",
              "      <td>1.80</td>\n",
              "      <td>United States</td>\n",
              "      <td>84.8</td>\n",
              "      <td>CrossFit Mentality</td>\n",
              "      <td>M</td>\n",
              "      <td>31</td>\n",
              "      <td>US</td>\n",
              "      <td>4</td>\n",
              "      <td>795.0</td>\n",
              "      <td>Men</td>\n",
              "    </tr>\n",
              "    <tr>\n",
              "      <th>4</th>\n",
              "      <td>1.55</td>\n",
              "      <td>Australia</td>\n",
              "      <td>87.1</td>\n",
              "      <td>CrossFit Mode</td>\n",
              "      <td>M</td>\n",
              "      <td>28</td>\n",
              "      <td>AU</td>\n",
              "      <td>5</td>\n",
              "      <td>728.0</td>\n",
              "      <td>Men</td>\n",
              "    </tr>\n",
              "  </tbody>\n",
              "</table>\n",
              "</div>"
            ],
            "text/plain": [
              "   height countryoforiginname  weight  ... overallrank overallscore  division\n",
              "0    1.74       United States    88.5  ...           1        984.0       Men\n",
              "1    1.74       United States    86.2  ...           2        949.0       Men\n",
              "2    1.55             Iceland    83.9  ...           3        888.0       Men\n",
              "3    1.80       United States    84.8  ...           4        795.0       Men\n",
              "4    1.55           Australia    87.1  ...           5        728.0       Men\n",
              "\n",
              "[5 rows x 10 columns]"
            ]
          },
          "metadata": {
            "tags": []
          },
          "execution_count": 7
        }
      ]
    },
    {
      "cell_type": "code",
      "metadata": {
        "id": "YyGkOwdEAuiA",
        "colab_type": "code",
        "outputId": "1369eebc-63fb-4b34-eed3-8fe0da78338e",
        "colab": {
          "base_uri": "https://localhost:8080/",
          "height": 306
        }
      },
      "source": [
        "df.info()"
      ],
      "execution_count": 8,
      "outputs": [
        {
          "output_type": "stream",
          "text": [
            "<class 'pandas.core.frame.DataFrame'>\n",
            "RangeIndex: 394 entries, 0 to 393\n",
            "Data columns (total 10 columns):\n",
            " #   Column               Non-Null Count  Dtype  \n",
            "---  ------               --------------  -----  \n",
            " 0   height               394 non-null    float64\n",
            " 1   countryoforiginname  394 non-null    object \n",
            " 2   weight               394 non-null    float64\n",
            " 3   affiliatename        357 non-null    object \n",
            " 4   gender               394 non-null    object \n",
            " 5   age                  394 non-null    int64  \n",
            " 6   countryoforigincode  393 non-null    object \n",
            " 7   overallrank          394 non-null    object \n",
            " 8   overallscore         391 non-null    float64\n",
            " 9   division             394 non-null    object \n",
            "dtypes: float64(3), int64(1), object(6)\n",
            "memory usage: 30.9+ KB\n"
          ],
          "name": "stdout"
        }
      ]
    },
    {
      "cell_type": "markdown",
      "metadata": {
        "id": "paNq_Bpzzq5v",
        "colab_type": "text"
      },
      "source": [
        "## Outliers"
      ]
    },
    {
      "cell_type": "code",
      "metadata": {
        "id": "Aeus_7QpzsxH",
        "colab_type": "code",
        "colab": {}
      },
      "source": [
        "#Outliers \n",
        "def outliers_iqr(df, feature):\n",
        "    q1 = df[feature].quantile(0.25)\n",
        "    q3 = df[feature].quantile(0.75)\n",
        "    iqr = q3 - q1\n",
        "    outliers = ((df[[feature]] < (q1 - 1.5 * iqr)) |(df[[feature]] > (q3 + 1.5 * iqr))).any(axis=1)\n",
        "    return outliers\n",
        "\n",
        "non_outliers = ~outliers_iqr(df, 'height')\n",
        "\n"
      ],
      "execution_count": 0,
      "outputs": []
    },
    {
      "cell_type": "markdown",
      "metadata": {
        "id": "MqbWE-T6xvRC",
        "colab_type": "text"
      },
      "source": [
        "# Features"
      ]
    },
    {
      "cell_type": "code",
      "metadata": {
        "id": "gZw7ufdJxwQN",
        "colab_type": "code",
        "outputId": "63e211c8-d57e-4f3c-9eff-066ebcbac072",
        "colab": {
          "base_uri": "https://localhost:8080/",
          "height": 388
        }
      },
      "source": [
        "# Two features: height and weight\n",
        "plt.figure(figsize=(9, 6))\n",
        "plt.scatter(df[non_outliers]['height'], df[non_outliers]['weight'])\n",
        "plt.xlabel('height')\n",
        "plt.ylabel('weight')\n",
        "plt.grid()"
      ],
      "execution_count": 10,
      "outputs": [
        {
          "output_type": "display_data",
          "data": {
            "image/png": "[encoded data removed]",
            "text/plain": [
              "<Figure size 648x432 with 1 Axes>"
            ]
          },
          "metadata": {
            "tags": [],
            "needs_background": "light"
          }
        }
      ]
    },
    {
      "cell_type": "code",
      "metadata": {
        "id": "QZlvkggY0kf1",
        "colab_type": "code",
        "colab": {}
      },
      "source": [
        " # Scaling\n",
        "from sklearn.preprocessing import StandardScaler\n",
        "\n",
        "scaler = StandardScaler()\n",
        "X = df[non_outliers][['height', 'weight']].values\n",
        "X = scaler.fit_transform(X)"
      ],
      "execution_count": 0,
      "outputs": []
    },
    {
      "cell_type": "markdown",
      "metadata": {
        "id": "7n_x9gPR0o_u",
        "colab_type": "text"
      },
      "source": [
        "# K-means clustering"
      ]
    },
    {
      "cell_type": "markdown",
      "metadata": {
        "id": "OfW9SlVT4oq-",
        "colab_type": "text"
      },
      "source": [
        "K-means clustering is an unsupervised machine learning algorithms.\n",
        "The K-means algorithm identifies k number of centroids, and then allocates every data point to the nearest cluster, while keeping the centroids as small as possible."
      ]
    },
    {
      "cell_type": "code",
      "metadata": {
        "id": "swSyzO7S0rDL",
        "colab_type": "code",
        "colab": {}
      },
      "source": [
        "from sklearn.cluster import KMeans\n",
        "from sklearn.metrics import silhouette_score"
      ],
      "execution_count": 0,
      "outputs": []
    },
    {
      "cell_type": "code",
      "metadata": {
        "id": "0YZR1ki306Ry",
        "colab_type": "code",
        "outputId": "c6aca049-d2db-422f-ef75-358fa87591d0",
        "colab": {
          "base_uri": "https://localhost:8080/",
          "height": 337
        }
      },
      "source": [
        " # Inertia scores\n",
        "inertia_scores = []\n",
        "k_values = list(range(1, 10 + 1))\n",
        "for k in k_values:\n",
        "    kmeans = KMeans(n_clusters=k)\n",
        "    y_pred = kmeans.fit_predict(X)\n",
        "    inertia_scores.append(kmeans.inertia_)\n",
        "    \n",
        "plt.figure(figsize=(9, 5))\n",
        "plt.plot(k_values, inertia_scores, marker='o')\n",
        "plt.xticks(k_values)\n",
        "plt.xlabel('Number of clusters (k)')\n",
        "plt.ylabel('Inertia')\n",
        "plt.grid()"
      ],
      "execution_count": 27,
      "outputs": [
        {
          "output_type": "display_data",
          "data": {
            "image/png": "[encoded data removed]",
            "text/plain": [
              "<Figure size 648x360 with 1 Axes>"
            ]
          },
          "metadata": {
            "tags": [],
            "needs_background": "light"
          }
        }
      ]
    },
    {
      "cell_type": "markdown",
      "metadata": {
        "id": "YmCrPGyw42vo",
        "colab_type": "text"
      },
      "source": [
        "2 or 3 clusters should be good. If we choose more clusers, the inertia start decreasing."
      ]
    },
    {
      "cell_type": "code",
      "metadata": {
        "id": "02WewHsc1OWX",
        "colab_type": "code",
        "outputId": "2898e6e2-9324-4840-8e50-36425c1a15d3",
        "colab": {
          "base_uri": "https://localhost:8080/",
          "height": 368
        }
      },
      "source": [
        "# Adjusted R2\n",
        "n = max(k_values)\n",
        "adjusted_r2_scores = [\n",
        "    1 - ((inertia * (n - 1)) / (inertia_scores[0] * (n - k)))\n",
        "    for inertia, k in zip(inertia_scores, k_values)\n",
        "]\n",
        "\n",
        "plt.figure(figsize=(9, 5))\n",
        "plt.plot(k_values, adjusted_r2_scores, marker='o')\n",
        "plt.xticks(k_values)\n",
        "plt.xlabel('Number of clusters (k)')\n",
        "plt.ylabel('Adjusted R2')\n",
        "plt.ylim([-0.1, 1.1])\n",
        "plt.grid()"
      ],
      "execution_count": 14,
      "outputs": [
        {
          "output_type": "stream",
          "text": [
            "/usr/local/lib/python3.6/dist-packages/ipykernel_launcher.py:4: RuntimeWarning: divide by zero encountered in double_scalars\n",
            "  after removing the cwd from sys.path.\n"
          ],
          "name": "stderr"
        },
        {
          "output_type": "display_data",
          "data": {
            "image/png": "[encoded data removed]",
            "text/plain": [
              "<Figure size 648x360 with 1 Axes>"
            ]
          },
          "metadata": {
            "tags": [],
            "needs_background": "light"
          }
        }
      ]
    },
    {
      "cell_type": "markdown",
      "metadata": {
        "id": "D-1hPb295jQU",
        "colab_type": "text"
      },
      "source": [
        "Like for the previous graph, we should choose 2 or 3 clusters."
      ]
    },
    {
      "cell_type": "code",
      "metadata": {
        "id": "WmDDlXEd1WeV",
        "colab_type": "code",
        "outputId": "6d097b97-3101-4b65-df50-eb18e63a94e5",
        "colab": {
          "base_uri": "https://localhost:8080/",
          "height": 334
        }
      },
      "source": [
        " # Silhouette coefficient\n",
        "silhouette_scores = []\n",
        "k_values = list(range(2, 10 + 1))\n",
        "for k in k_values:\n",
        "    kmeans = KMeans(n_clusters=k)\n",
        "    y_pred = kmeans.fit_predict(X)\n",
        "    score = silhouette_score(X, y_pred)\n",
        "    silhouette_scores.append(score)\n",
        "\n",
        "    \n",
        "plt.figure(figsize=(9, 5))\n",
        "plt.plot(k_values, silhouette_scores, marker='o')\n",
        "plt.xticks(k_values)\n",
        "plt.xlabel('Number of clusters (k)')\n",
        "plt.ylabel('Silhouette coefficient')\n",
        "plt.grid()"
      ],
      "execution_count": 29,
      "outputs": [
        {
          "output_type": "display_data",
          "data": {
            "image/png": "[encoded data removed]",
            "text/plain": [
              "<Figure size 648x360 with 1 Axes>"
            ]
          },
          "metadata": {
            "tags": [],
            "needs_background": "light"
          }
        }
      ]
    },
    {
      "cell_type": "markdown",
      "metadata": {
        "id": "e6gnDeto59DI",
        "colab_type": "text"
      },
      "source": [
        "3 clusters looks the best choose according to the method \"silhouette coefficient\".\n"
      ]
    },
    {
      "cell_type": "markdown",
      "metadata": {
        "id": "IZmfGYUB6VVv",
        "colab_type": "text"
      },
      "source": [
        "### 2 clusters"
      ]
    },
    {
      "cell_type": "code",
      "metadata": {
        "id": "e_u7Q4241cru",
        "colab_type": "code",
        "outputId": "ccab9701-3f93-4ac8-be61-b6ebaf7b200b",
        "colab": {
          "base_uri": "https://localhost:8080/",
          "height": 404
        }
      },
      "source": [
        "kmeans_2 = KMeans(n_clusters=2)\n",
        "kmeans_2_pred = kmeans_2.fit_predict(X)\n",
        "\n",
        "plt.figure(figsize=(9, 6))\n",
        "plt.scatter(X[:, 0], X[:, 1], c=kmeans_2_pred)\n",
        "plt.xlabel('height (scaled)')\n",
        "plt.ylabel('weight (scaled)')\n",
        "plt.title('K=2')\n",
        "plt.grid()"
      ],
      "execution_count": 16,
      "outputs": [
        {
          "output_type": "display_data",
          "data": {
            "image/png": "[encoded data removed]",
            "text/plain": [
              "<Figure size 648x432 with 1 Axes>"
            ]
          },
          "metadata": {
            "tags": [],
            "needs_background": "light"
          }
        }
      ]
    },
    {
      "cell_type": "markdown",
      "metadata": {
        "id": "u9rC7kv36aUj",
        "colab_type": "text"
      },
      "source": [
        "### 3 clusters"
      ]
    },
    {
      "cell_type": "code",
      "metadata": {
        "id": "BdJHhXvc1uZu",
        "colab_type": "code",
        "outputId": "553a328a-bfa7-41db-d74a-6d6617e47a8b",
        "colab": {
          "base_uri": "https://localhost:8080/",
          "height": 404
        }
      },
      "source": [
        "kmeans_3 = KMeans(n_clusters=3)\n",
        "kmeans_3_pred = kmeans_3.fit_predict(X)\n",
        "\n",
        "plt.figure(figsize=(9, 6))\n",
        "plt.scatter(X[:, 0], X[:, 1], c=kmeans_3_pred)\n",
        "plt.xlabel('height (scaled)')\n",
        "plt.ylabel('weight (scaled)')\n",
        "plt.title('K=3')\n",
        "plt.grid()"
      ],
      "execution_count": 17,
      "outputs": [
        {
          "output_type": "display_data",
          "data": {
            "image/png": "[encoded data removed]",
            "text/plain": [
              "<Figure size 648x432 with 1 Axes>"
            ]
          },
          "metadata": {
            "tags": [],
            "needs_background": "light"
          }
        }
      ]
    },
    {
      "cell_type": "markdown",
      "metadata": {
        "id": "eNZ-XvfX11sG",
        "colab_type": "text"
      },
      "source": [
        "# Interpretation\n"
      ]
    },
    {
      "cell_type": "code",
      "metadata": {
        "id": "2O23XkXs13-6",
        "colab_type": "code",
        "outputId": "e1b02dd1-61fe-4fd1-931c-e5048eae62cd",
        "colab": {
          "base_uri": "https://localhost:8080/",
          "height": 269
        }
      },
      "source": [
        "# Cluster sizes\n",
        "plt.figure()\n",
        "plt.hist(kmeans_3_pred)\n",
        "plt.show()"
      ],
      "execution_count": 30,
      "outputs": [
        {
          "output_type": "display_data",
          "data": {
            "image/png": "[encoded data removed]",
            "text/plain": [
              "<Figure size 432x288 with 1 Axes>"
            ]
          },
          "metadata": {
            "tags": [],
            "needs_background": "light"
          }
        }
      ]
    },
    {
      "cell_type": "code",
      "metadata": {
        "id": "hZZVUF1w1-td",
        "colab_type": "code",
        "outputId": "04fe4c3f-3e3b-4eb9-a252-689cc0cb84ef",
        "colab": {
          "base_uri": "https://localhost:8080/",
          "height": 68
        }
      },
      "source": [
        "# Cluster centers\n",
        "# Note the reverse of scaling operation!\n",
        "scaler.inverse_transform(\n",
        "    kmeans_3.cluster_centers_)"
      ],
      "execution_count": 31,
      "outputs": [
        {
          "output_type": "execute_result",
          "data": {
            "text/plain": [
              "array([[ 1.66418848, 63.95602094],\n",
              "       [ 1.79488889, 84.34296296],\n",
              "       [ 1.55385965, 87.05263158]])"
            ]
          },
          "metadata": {
            "tags": []
          },
          "execution_count": 31
        }
      ]
    },
    {
      "cell_type": "markdown",
      "metadata": {
        "id": "oDgKjdcw7Uzm",
        "colab_type": "text"
      },
      "source": [
        "Here we have our 3 cluster centers, height on the left, weight on the right.\n",
        "\n"
      ]
    },
    {
      "cell_type": "markdown",
      "metadata": {
        "id": "iCubGhOp2Fm9",
        "colab_type": "text"
      },
      "source": [
        "# Hierarchical clustering\n"
      ]
    },
    {
      "cell_type": "markdown",
      "metadata": {
        "id": "N3V-tBVeTDZi",
        "colab_type": "text"
      },
      "source": [
        "We try here to fing relatively homogeneous clusters of cases based on measured characteristics."
      ]
    },
    {
      "cell_type": "code",
      "metadata": {
        "id": "vz5-p63v2Gsi",
        "colab_type": "code",
        "colab": {}
      },
      "source": [
        "from scipy.cluster.hierarchy import dendrogram\n",
        "\n",
        "def plot_dendrogram(model, **kwargs):\n",
        "    # Create linkage matrix and then plot the dendrogram\n",
        "\n",
        "    # create the counts of samples under each node\n",
        "    counts = np.zeros(model.children_.shape[0])\n",
        "    n_samples = len(model.labels_)\n",
        "    for i, merge in enumerate(model.children_):\n",
        "        current_count = 0\n",
        "        for child_idx in merge:\n",
        "            if child_idx < n_samples:\n",
        "                current_count += 1  # leaf node\n",
        "            else:\n",
        "                current_count += counts[child_idx - n_samples]\n",
        "        counts[i] = current_count\n",
        "\n",
        "    linkage_matrix = np.column_stack([model.children_, model.distances_,\n",
        "                                      counts]).astype(float)\n",
        "\n",
        "    # Plot the corresponding dendrogram\n",
        "    dendrogram(linkage_matrix, **kwargs)"
      ],
      "execution_count": 0,
      "outputs": []
    },
    {
      "cell_type": "code",
      "metadata": {
        "id": "TVTwrcQG2War",
        "colab_type": "code",
        "outputId": "8b79e074-7253-4eb0-ccf0-7fd01a248893",
        "colab": {
          "base_uri": "https://localhost:8080/",
          "height": 377
        }
      },
      "source": [
        " from sklearn.cluster import AgglomerativeClustering\n",
        "\n",
        "# Default linkage method is Ward\n",
        "hc0 = AgglomerativeClustering(distance_threshold=0, n_clusters=None)\n",
        "hc0.fit(X)\n",
        "\n",
        "plt.figure(figsize=(10, 6))\n",
        "plot_dendrogram(hc0, truncate_mode='level', p=3)\n",
        "plt.grid()"
      ],
      "execution_count": 22,
      "outputs": [
        {
          "output_type": "display_data",
          "data": {
            "image/png": "[encoded data removed]",
            "text/plain": [
              "<Figure size 720x432 with 1 Axes>"
            ]
          },
          "metadata": {
            "tags": [],
            "needs_background": "light"
          }
        }
      ]
    },
    {
      "cell_type": "code",
      "metadata": {
        "id": "ZjRxmNHS2uOe",
        "colab_type": "code",
        "colab": {}
      },
      "source": [
        " # Specifying distance threshold instead of number of clusters:\n",
        "hc = AgglomerativeClustering(distance_threshold=25, n_clusters=None)\n",
        "hc_pred = hc.fit_predict(X)\n",
        "\n",
        "# Optimal number of clusters could also be determined by \n",
        "# largest vertical distance which does not intersect any other clusters."
      ],
      "execution_count": 0,
      "outputs": []
    },
    {
      "cell_type": "markdown",
      "metadata": {
        "id": "qBBAAHek2giT",
        "colab_type": "text"
      },
      "source": [
        "# Interpretation"
      ]
    },
    {
      "cell_type": "code",
      "metadata": {
        "id": "faAPE6Mn2hQx",
        "colab_type": "code",
        "outputId": "bb177d3a-4739-477c-fed0-8b9eecfd9678",
        "colab": {
          "base_uri": "https://localhost:8080/",
          "height": 268
        }
      },
      "source": [
        "# Cluster sizes\n",
        "plt.figure()\n",
        "plt.hist(hc_pred)\n",
        "plt.show()"
      ],
      "execution_count": 33,
      "outputs": [
        {
          "output_type": "display_data",
          "data": {
            "image/png": "[encoded data removed]",
            "text/plain": [
              "<Figure size 432x288 with 1 Axes>"
            ]
          },
          "metadata": {
            "tags": [],
            "needs_background": "light"
          }
        }
      ]
    }
  ]
}